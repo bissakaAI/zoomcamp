{
 "cells": [
  {
   "cell_type": "code",
   "execution_count": 5,
   "id": "259bf593",
   "metadata": {},
   "outputs": [],
   "source": [
    "import pandas as pd \n",
    "import numpy as np \n",
    "import random"
   ]
  },
  {
   "cell_type": "code",
   "execution_count": 6,
   "id": "a7dc1f9c",
   "metadata": {},
   "outputs": [],
   "source": [
    "data = pd.read_csv(r'car_fuel_efficiency.csv')"
   ]
  },
  {
   "cell_type": "code",
   "execution_count": 7,
   "id": "110b4f9c",
   "metadata": {},
   "outputs": [
    {
     "data": {
      "text/plain": [
       "engine_displacement      0\n",
       "num_cylinders          482\n",
       "horsepower             708\n",
       "vehicle_weight           0\n",
       "acceleration           930\n",
       "model_year               0\n",
       "origin                   0\n",
       "fuel_type                0\n",
       "drivetrain               0\n",
       "num_doors              502\n",
       "fuel_efficiency_mpg      0\n",
       "dtype: int64"
      ]
     },
     "execution_count": 7,
     "metadata": {},
     "output_type": "execute_result"
    }
   ],
   "source": [
    "data.isna().sum()"
   ]
  },
  {
   "cell_type": "code",
   "execution_count": 8,
   "id": "d5cefee8",
   "metadata": {},
   "outputs": [],
   "source": [
    "data2 = data[['engine_displacement','horsepower','vehicle_weight','model_year','fuel_efficiency_mpg']]"
   ]
  },
  {
   "cell_type": "code",
   "execution_count": 9,
   "id": "4023ca64",
   "metadata": {},
   "outputs": [
    {
     "data": {
      "text/html": [
       "<div>\n",
       "<style scoped>\n",
       "    .dataframe tbody tr th:only-of-type {\n",
       "        vertical-align: middle;\n",
       "    }\n",
       "\n",
       "    .dataframe tbody tr th {\n",
       "        vertical-align: top;\n",
       "    }\n",
       "\n",
       "    .dataframe thead th {\n",
       "        text-align: right;\n",
       "    }\n",
       "</style>\n",
       "<table border=\"1\" class=\"dataframe\">\n",
       "  <thead>\n",
       "    <tr style=\"text-align: right;\">\n",
       "      <th></th>\n",
       "      <th>engine_displacement</th>\n",
       "      <th>horsepower</th>\n",
       "      <th>vehicle_weight</th>\n",
       "      <th>model_year</th>\n",
       "      <th>fuel_efficiency_mpg</th>\n",
       "    </tr>\n",
       "  </thead>\n",
       "  <tbody>\n",
       "    <tr>\n",
       "      <th>0</th>\n",
       "      <td>170</td>\n",
       "      <td>159.0</td>\n",
       "      <td>3413.433759</td>\n",
       "      <td>2003</td>\n",
       "      <td>13.231729</td>\n",
       "    </tr>\n",
       "    <tr>\n",
       "      <th>1</th>\n",
       "      <td>130</td>\n",
       "      <td>97.0</td>\n",
       "      <td>3149.664934</td>\n",
       "      <td>2007</td>\n",
       "      <td>13.688217</td>\n",
       "    </tr>\n",
       "    <tr>\n",
       "      <th>2</th>\n",
       "      <td>170</td>\n",
       "      <td>78.0</td>\n",
       "      <td>3079.038997</td>\n",
       "      <td>2018</td>\n",
       "      <td>14.246341</td>\n",
       "    </tr>\n",
       "    <tr>\n",
       "      <th>3</th>\n",
       "      <td>220</td>\n",
       "      <td>NaN</td>\n",
       "      <td>2542.392402</td>\n",
       "      <td>2009</td>\n",
       "      <td>16.912736</td>\n",
       "    </tr>\n",
       "    <tr>\n",
       "      <th>4</th>\n",
       "      <td>210</td>\n",
       "      <td>140.0</td>\n",
       "      <td>3460.870990</td>\n",
       "      <td>2009</td>\n",
       "      <td>12.488369</td>\n",
       "    </tr>\n",
       "    <tr>\n",
       "      <th>...</th>\n",
       "      <td>...</td>\n",
       "      <td>...</td>\n",
       "      <td>...</td>\n",
       "      <td>...</td>\n",
       "      <td>...</td>\n",
       "    </tr>\n",
       "    <tr>\n",
       "      <th>9699</th>\n",
       "      <td>140</td>\n",
       "      <td>164.0</td>\n",
       "      <td>2981.107371</td>\n",
       "      <td>2013</td>\n",
       "      <td>15.101802</td>\n",
       "    </tr>\n",
       "    <tr>\n",
       "      <th>9700</th>\n",
       "      <td>180</td>\n",
       "      <td>154.0</td>\n",
       "      <td>2439.525729</td>\n",
       "      <td>2004</td>\n",
       "      <td>17.962326</td>\n",
       "    </tr>\n",
       "    <tr>\n",
       "      <th>9701</th>\n",
       "      <td>220</td>\n",
       "      <td>138.0</td>\n",
       "      <td>2583.471318</td>\n",
       "      <td>2008</td>\n",
       "      <td>17.186587</td>\n",
       "    </tr>\n",
       "    <tr>\n",
       "      <th>9702</th>\n",
       "      <td>230</td>\n",
       "      <td>177.0</td>\n",
       "      <td>2905.527390</td>\n",
       "      <td>2011</td>\n",
       "      <td>15.331551</td>\n",
       "    </tr>\n",
       "    <tr>\n",
       "      <th>9703</th>\n",
       "      <td>270</td>\n",
       "      <td>140.0</td>\n",
       "      <td>2908.043477</td>\n",
       "      <td>2005</td>\n",
       "      <td>14.884467</td>\n",
       "    </tr>\n",
       "  </tbody>\n",
       "</table>\n",
       "<p>9704 rows × 5 columns</p>\n",
       "</div>"
      ],
      "text/plain": [
       "      engine_displacement  horsepower  vehicle_weight  model_year  \\\n",
       "0                     170       159.0     3413.433759        2003   \n",
       "1                     130        97.0     3149.664934        2007   \n",
       "2                     170        78.0     3079.038997        2018   \n",
       "3                     220         NaN     2542.392402        2009   \n",
       "4                     210       140.0     3460.870990        2009   \n",
       "...                   ...         ...             ...         ...   \n",
       "9699                  140       164.0     2981.107371        2013   \n",
       "9700                  180       154.0     2439.525729        2004   \n",
       "9701                  220       138.0     2583.471318        2008   \n",
       "9702                  230       177.0     2905.527390        2011   \n",
       "9703                  270       140.0     2908.043477        2005   \n",
       "\n",
       "      fuel_efficiency_mpg  \n",
       "0               13.231729  \n",
       "1               13.688217  \n",
       "2               14.246341  \n",
       "3               16.912736  \n",
       "4               12.488369  \n",
       "...                   ...  \n",
       "9699            15.101802  \n",
       "9700            17.962326  \n",
       "9701            17.186587  \n",
       "9702            15.331551  \n",
       "9703            14.884467  \n",
       "\n",
       "[9704 rows x 5 columns]"
      ]
     },
     "execution_count": 9,
     "metadata": {},
     "output_type": "execute_result"
    }
   ],
   "source": [
    "data2"
   ]
  },
  {
   "cell_type": "code",
   "execution_count": 10,
   "id": "51ea670e",
   "metadata": {},
   "outputs": [],
   "source": [
    "datampg = data2['fuel_efficiency_mpg']"
   ]
  },
  {
   "cell_type": "code",
   "execution_count": 11,
   "id": "a98502cf",
   "metadata": {},
   "outputs": [
    {
     "data": {
      "text/plain": [
       "np.float64(0.02273224449763367)"
      ]
     },
     "execution_count": 11,
     "metadata": {},
     "output_type": "execute_result"
    }
   ],
   "source": [
    "datampg.kurtosis()"
   ]
  },
  {
   "cell_type": "markdown",
   "id": "976e5177",
   "metadata": {},
   "source": [
    "with  kurtosis of less than 3, It has a light tail and flatter peak"
   ]
  },
  {
   "cell_type": "code",
   "execution_count": 12,
   "id": "f306bddb",
   "metadata": {},
   "outputs": [
    {
     "data": {
      "text/plain": [
       "engine_displacement      0\n",
       "horsepower             708\n",
       "vehicle_weight           0\n",
       "model_year               0\n",
       "fuel_efficiency_mpg      0\n",
       "dtype: int64"
      ]
     },
     "execution_count": 12,
     "metadata": {},
     "output_type": "execute_result"
    }
   ],
   "source": [
    "data2.isna().sum()"
   ]
  },
  {
   "cell_type": "code",
   "execution_count": 13,
   "id": "889954c5",
   "metadata": {},
   "outputs": [
    {
     "data": {
      "text/plain": [
       "np.float64(149.0)"
      ]
     },
     "execution_count": 13,
     "metadata": {},
     "output_type": "execute_result"
    }
   ],
   "source": [
    "data2['horsepower'].median()"
   ]
  },
  {
   "cell_type": "code",
   "execution_count": 14,
   "id": "6904bbcd",
   "metadata": {},
   "outputs": [],
   "source": [
    "np.random.seed(42)"
   ]
  },
  {
   "cell_type": "code",
   "execution_count": 15,
   "id": "4b7157f2",
   "metadata": {},
   "outputs": [
    {
     "name": "stdout",
     "output_type": "stream",
     "text": [
      "n_val1940\n",
      " ntes 3880\n",
      " 5824\n"
     ]
    }
   ],
   "source": [
    "n = len(data2)\n",
    "n\n",
    "\n",
    "n_val = int(n*0.2)\n",
    "n_test =int(n*0.2)\n",
    "n_train= n- n_test-n_val\n",
    "print(f'n_val{n_val}\\n ntes {n_test +n_val}\\n {n_train}')"
   ]
  },
  {
   "cell_type": "code",
   "execution_count": 16,
   "id": "ba414a22",
   "metadata": {},
   "outputs": [],
   "source": [
    "idx =np.arange(n)\n",
    "np.random.shuffle(idx)"
   ]
  },
  {
   "cell_type": "code",
   "execution_count": 17,
   "id": "da03c056",
   "metadata": {},
   "outputs": [],
   "source": [
    "df_train = data2.iloc[idx[:n_train]]\n",
    "df_val =data2.iloc[idx[n_train: n_train+n_val]]\n",
    "df_test = data2.iloc[idx[n_train+n_val:]]\n"
   ]
  },
  {
   "cell_type": "code",
   "execution_count": 18,
   "id": "1dc3de92",
   "metadata": {},
   "outputs": [],
   "source": [
    "df_train=df_train.reset_index(drop=True)\n",
    "df_val = df_val.reset_index(drop=True)\n",
    "df_test = df_test.reset_index(drop=True)"
   ]
  },
  {
   "cell_type": "code",
   "execution_count": 19,
   "id": "33dd5565",
   "metadata": {},
   "outputs": [],
   "source": [
    "w0 = 0 \n",
    "w = [1,1,1]\n",
    "xi = [23,56,35]"
   ]
  },
  {
   "cell_type": "code",
   "execution_count": 20,
   "id": "b4f090e0",
   "metadata": {},
   "outputs": [],
   "source": [
    "w_new = [w0] + w"
   ]
  },
  {
   "cell_type": "code",
   "execution_count": 21,
   "id": "4bc387b4",
   "metadata": {},
   "outputs": [],
   "source": [
    "def linear_regression(xi):\n",
    "    xi= [1]+[xi]\n",
    "    return np.dot(xi,w_new)\n"
   ]
  },
  {
   "cell_type": "code",
   "execution_count": 22,
   "id": "48f1a0ad",
   "metadata": {},
   "outputs": [
    {
     "data": {
      "text/html": [
       "<div>\n",
       "<style scoped>\n",
       "    .dataframe tbody tr th:only-of-type {\n",
       "        vertical-align: middle;\n",
       "    }\n",
       "\n",
       "    .dataframe tbody tr th {\n",
       "        vertical-align: top;\n",
       "    }\n",
       "\n",
       "    .dataframe thead th {\n",
       "        text-align: right;\n",
       "    }\n",
       "</style>\n",
       "<table border=\"1\" class=\"dataframe\">\n",
       "  <thead>\n",
       "    <tr style=\"text-align: right;\">\n",
       "      <th></th>\n",
       "      <th>engine_displacement</th>\n",
       "      <th>horsepower</th>\n",
       "      <th>vehicle_weight</th>\n",
       "      <th>model_year</th>\n",
       "      <th>fuel_efficiency_mpg</th>\n",
       "    </tr>\n",
       "  </thead>\n",
       "  <tbody>\n",
       "    <tr>\n",
       "      <th>0</th>\n",
       "      <td>220</td>\n",
       "      <td>144.0</td>\n",
       "      <td>2535.887591</td>\n",
       "      <td>2009</td>\n",
       "      <td>16.642943</td>\n",
       "    </tr>\n",
       "    <tr>\n",
       "      <th>1</th>\n",
       "      <td>160</td>\n",
       "      <td>141.0</td>\n",
       "      <td>2741.170484</td>\n",
       "      <td>2019</td>\n",
       "      <td>16.298377</td>\n",
       "    </tr>\n",
       "  </tbody>\n",
       "</table>\n",
       "</div>"
      ],
      "text/plain": [
       "   engine_displacement  horsepower  vehicle_weight  model_year  \\\n",
       "0                  220       144.0     2535.887591        2009   \n",
       "1                  160       141.0     2741.170484        2019   \n",
       "\n",
       "   fuel_efficiency_mpg  \n",
       "0            16.642943  \n",
       "1            16.298377  "
      ]
     },
     "execution_count": 22,
     "metadata": {},
     "output_type": "execute_result"
    }
   ],
   "source": [
    "df_train.head(2)"
   ]
  },
  {
   "cell_type": "code",
   "execution_count": 23,
   "id": "0b7ff527",
   "metadata": {},
   "outputs": [
    {
     "data": {
      "text/plain": [
       "5824"
      ]
     },
     "execution_count": 23,
     "metadata": {},
     "output_type": "execute_result"
    }
   ],
   "source": [
    "df_train.shape[0]"
   ]
  },
  {
   "cell_type": "code",
   "execution_count": 24,
   "id": "41c1f1fb",
   "metadata": {},
   "outputs": [
    {
     "data": {
      "text/plain": [
       "engine_displacement      0\n",
       "horsepower             429\n",
       "vehicle_weight           0\n",
       "model_year               0\n",
       "fuel_efficiency_mpg      0\n",
       "dtype: int64"
      ]
     },
     "execution_count": 24,
     "metadata": {},
     "output_type": "execute_result"
    }
   ],
   "source": [
    "df_train.isna().sum()"
   ]
  },
  {
   "cell_type": "markdown",
   "id": "79218c88",
   "metadata": {},
   "source": [
    "# filling with  0"
   ]
  },
  {
   "cell_type": "code",
   "execution_count": 25,
   "id": "91b10b17",
   "metadata": {},
   "outputs": [],
   "source": [
    "x_train = df_train.fillna(0)"
   ]
  },
  {
   "cell_type": "code",
   "execution_count": 26,
   "id": "d3bb6ddd",
   "metadata": {},
   "outputs": [
    {
     "data": {
      "text/plain": [
       "array([16.64294342, 16.29837715, 18.59182197, ..., 17.59323665,\n",
       "       18.92574819, 17.96528447], shape=(5824,))"
      ]
     },
     "execution_count": 26,
     "metadata": {},
     "output_type": "execute_result"
    }
   ],
   "source": [
    "y_train = df_train['fuel_efficiency_mpg'].values\n",
    "y_train\n"
   ]
  },
  {
   "cell_type": "code",
   "execution_count": 27,
   "id": "eb27bb08",
   "metadata": {},
   "outputs": [],
   "source": [
    "t_x =x_train.drop('fuel_efficiency_mpg',axis=1)"
   ]
  },
  {
   "cell_type": "code",
   "execution_count": 28,
   "id": "b44bfe9e",
   "metadata": {},
   "outputs": [
    {
     "data": {
      "text/html": [
       "<div>\n",
       "<style scoped>\n",
       "    .dataframe tbody tr th:only-of-type {\n",
       "        vertical-align: middle;\n",
       "    }\n",
       "\n",
       "    .dataframe tbody tr th {\n",
       "        vertical-align: top;\n",
       "    }\n",
       "\n",
       "    .dataframe thead th {\n",
       "        text-align: right;\n",
       "    }\n",
       "</style>\n",
       "<table border=\"1\" class=\"dataframe\">\n",
       "  <thead>\n",
       "    <tr style=\"text-align: right;\">\n",
       "      <th></th>\n",
       "      <th>engine_displacement</th>\n",
       "      <th>horsepower</th>\n",
       "      <th>vehicle_weight</th>\n",
       "      <th>model_year</th>\n",
       "    </tr>\n",
       "  </thead>\n",
       "  <tbody>\n",
       "    <tr>\n",
       "      <th>0</th>\n",
       "      <td>220</td>\n",
       "      <td>144.0</td>\n",
       "      <td>2535.887591</td>\n",
       "      <td>2009</td>\n",
       "    </tr>\n",
       "    <tr>\n",
       "      <th>1</th>\n",
       "      <td>160</td>\n",
       "      <td>141.0</td>\n",
       "      <td>2741.170484</td>\n",
       "      <td>2019</td>\n",
       "    </tr>\n",
       "    <tr>\n",
       "      <th>2</th>\n",
       "      <td>230</td>\n",
       "      <td>155.0</td>\n",
       "      <td>2471.880237</td>\n",
       "      <td>2017</td>\n",
       "    </tr>\n",
       "    <tr>\n",
       "      <th>3</th>\n",
       "      <td>150</td>\n",
       "      <td>206.0</td>\n",
       "      <td>3748.164469</td>\n",
       "      <td>2015</td>\n",
       "    </tr>\n",
       "    <tr>\n",
       "      <th>4</th>\n",
       "      <td>300</td>\n",
       "      <td>111.0</td>\n",
       "      <td>2135.716359</td>\n",
       "      <td>2006</td>\n",
       "    </tr>\n",
       "    <tr>\n",
       "      <th>...</th>\n",
       "      <td>...</td>\n",
       "      <td>...</td>\n",
       "      <td>...</td>\n",
       "      <td>...</td>\n",
       "    </tr>\n",
       "    <tr>\n",
       "      <th>5819</th>\n",
       "      <td>260</td>\n",
       "      <td>139.0</td>\n",
       "      <td>2606.972984</td>\n",
       "      <td>2009</td>\n",
       "    </tr>\n",
       "    <tr>\n",
       "      <th>5820</th>\n",
       "      <td>280</td>\n",
       "      <td>132.0</td>\n",
       "      <td>4004.214323</td>\n",
       "      <td>2014</td>\n",
       "    </tr>\n",
       "    <tr>\n",
       "      <th>5821</th>\n",
       "      <td>210</td>\n",
       "      <td>152.0</td>\n",
       "      <td>2500.175687</td>\n",
       "      <td>2020</td>\n",
       "    </tr>\n",
       "    <tr>\n",
       "      <th>5822</th>\n",
       "      <td>250</td>\n",
       "      <td>154.0</td>\n",
       "      <td>2254.313245</td>\n",
       "      <td>2002</td>\n",
       "    </tr>\n",
       "    <tr>\n",
       "      <th>5823</th>\n",
       "      <td>210</td>\n",
       "      <td>152.0</td>\n",
       "      <td>2435.203606</td>\n",
       "      <td>2004</td>\n",
       "    </tr>\n",
       "  </tbody>\n",
       "</table>\n",
       "<p>5824 rows × 4 columns</p>\n",
       "</div>"
      ],
      "text/plain": [
       "      engine_displacement  horsepower  vehicle_weight  model_year\n",
       "0                     220       144.0     2535.887591        2009\n",
       "1                     160       141.0     2741.170484        2019\n",
       "2                     230       155.0     2471.880237        2017\n",
       "3                     150       206.0     3748.164469        2015\n",
       "4                     300       111.0     2135.716359        2006\n",
       "...                   ...         ...             ...         ...\n",
       "5819                  260       139.0     2606.972984        2009\n",
       "5820                  280       132.0     4004.214323        2014\n",
       "5821                  210       152.0     2500.175687        2020\n",
       "5822                  250       154.0     2254.313245        2002\n",
       "5823                  210       152.0     2435.203606        2004\n",
       "\n",
       "[5824 rows x 4 columns]"
      ]
     },
     "execution_count": 28,
     "metadata": {},
     "output_type": "execute_result"
    }
   ],
   "source": [
    "t_x"
   ]
  },
  {
   "cell_type": "code",
   "execution_count": 29,
   "id": "54d01470",
   "metadata": {},
   "outputs": [],
   "source": [
    "t_x=t_x.values"
   ]
  },
  {
   "cell_type": "code",
   "execution_count": 30,
   "id": "eddff742",
   "metadata": {},
   "outputs": [
    {
     "data": {
      "text/plain": [
       "array([[ 220.        ,  144.        , 2535.88759124, 2009.        ],\n",
       "       [ 160.        ,  141.        , 2741.17048439, 2019.        ],\n",
       "       [ 230.        ,  155.        , 2471.88023726, 2017.        ],\n",
       "       ...,\n",
       "       [ 210.        ,  152.        , 2500.17568746, 2020.        ],\n",
       "       [ 250.        ,  154.        , 2254.31324473, 2002.        ],\n",
       "       [ 210.        ,  152.        , 2435.20360628, 2004.        ]],\n",
       "      shape=(5824, 4))"
      ]
     },
     "execution_count": 30,
     "metadata": {},
     "output_type": "execute_result"
    }
   ],
   "source": [
    "t_x"
   ]
  },
  {
   "cell_type": "markdown",
   "id": "c8aba0a4",
   "metadata": {},
   "source": [
    "# Train the linear regression"
   ]
  },
  {
   "cell_type": "code",
   "execution_count": 31,
   "id": "97b0185e",
   "metadata": {},
   "outputs": [],
   "source": [
    "def train_lin_regression(x,y):\n",
    "    ones =np.ones(x.shape[0])\n",
    "    x = np.column_stack([ones,x])\n",
    "    xtx = x.T.dot(x)\n",
    "    xtx_inv= np.linalg.inv(xtx)\n",
    "    w_full = xtx_inv.dot(x.T).dot(y)\n",
    "    return w_full[0],w_full[1:]"
   ]
  },
  {
   "cell_type": "code",
   "execution_count": 32,
   "id": "efabe253",
   "metadata": {},
   "outputs": [],
   "source": [
    "w0 , w = train_lin_regression(t_x,y_train)"
   ]
  },
  {
   "cell_type": "code",
   "execution_count": 33,
   "id": "2e0f5b42",
   "metadata": {},
   "outputs": [
    {
     "data": {
      "text/plain": [
       "array([ 9.93613218e-05,  3.54221891e-03, -5.01328015e-03,  3.42992869e-04])"
      ]
     },
     "execution_count": 33,
     "metadata": {},
     "output_type": "execute_result"
    }
   ],
   "source": [
    "w"
   ]
  },
  {
   "cell_type": "code",
   "execution_count": 34,
   "id": "bd6e5da5",
   "metadata": {},
   "outputs": [
    {
     "data": {
      "text/plain": [
       "array([17.33526223, 16.29296317, 17.69885099, ..., 17.54541307,\n",
       "       18.78287539, 17.86564842], shape=(5824,))"
      ]
     },
     "execution_count": 34,
     "metadata": {},
     "output_type": "execute_result"
    }
   ],
   "source": [
    "y_pred = w0 + t_x.dot(w)\n",
    "y_pred"
   ]
  },
  {
   "cell_type": "code",
   "execution_count": 35,
   "id": "62dc77ef",
   "metadata": {},
   "outputs": [],
   "source": [
    "x_val = df_val.drop('fuel_efficiency_mpg',axis=1)\n",
    "\n",
    "x_test = df_test.drop('fuel_efficiency_mpg',axis=1)"
   ]
  },
  {
   "cell_type": "code",
   "execution_count": 36,
   "id": "6bcd8e6b",
   "metadata": {},
   "outputs": [],
   "source": [
    "t_val = x_val.fillna(0).values"
   ]
  },
  {
   "cell_type": "code",
   "execution_count": 37,
   "id": "7680dcaf",
   "metadata": {},
   "outputs": [
    {
     "data": {
      "text/plain": [
       "array([[ 180.        ,  112.        , 2772.13441008, 2020.        ],\n",
       "       [ 260.        ,  138.        , 3014.06152983, 2022.        ],\n",
       "       [ 140.        ,  181.        , 3652.18615117, 2016.        ],\n",
       "       ...,\n",
       "       [ 230.        ,  202.        , 3303.00068812, 2008.        ],\n",
       "       [ 220.        ,  169.        , 3293.42025107, 2008.        ],\n",
       "       [ 200.        ,  117.        , 2692.7812918 , 2004.        ]],\n",
       "      shape=(1940, 4))"
      ]
     },
     "execution_count": 37,
     "metadata": {},
     "output_type": "execute_result"
    }
   ],
   "source": [
    "t_val"
   ]
  },
  {
   "cell_type": "code",
   "execution_count": 38,
   "id": "909f2aea",
   "metadata": {},
   "outputs": [
    {
     "data": {
      "text/plain": [
       "array([ 9.93613218e-05,  3.54221891e-03, -5.01328015e-03,  3.42992869e-04])"
      ]
     },
     "execution_count": 38,
     "metadata": {},
     "output_type": "execute_result"
    }
   ],
   "source": [
    "w"
   ]
  },
  {
   "cell_type": "code",
   "execution_count": 39,
   "id": "4487e883",
   "metadata": {},
   "outputs": [],
   "source": [
    "y_pred = w0 + t_val.dot(w)"
   ]
  },
  {
   "cell_type": "code",
   "execution_count": 40,
   "id": "1a3856d8",
   "metadata": {},
   "outputs": [
    {
     "data": {
      "text/plain": [
       "array([16.0373382 , 14.92522236, 11.86445895, ..., 13.69560868,\n",
       "       13.62575126, 16.44936805], shape=(1940,))"
      ]
     },
     "execution_count": 40,
     "metadata": {},
     "output_type": "execute_result"
    }
   ],
   "source": [
    "y_pred"
   ]
  },
  {
   "cell_type": "code",
   "execution_count": 41,
   "id": "37d88d6b",
   "metadata": {},
   "outputs": [
    {
     "data": {
      "text/plain": [
       "array([15.36634109, 14.60118181, 12.24703219, ..., 13.61312692,\n",
       "       13.73334321, 15.81604972], shape=(1940,))"
      ]
     },
     "execution_count": 41,
     "metadata": {},
     "output_type": "execute_result"
    }
   ],
   "source": [
    "y_val = df_val['fuel_efficiency_mpg'].values\n",
    "y_val"
   ]
  },
  {
   "cell_type": "markdown",
   "id": "e61e43ee",
   "metadata": {},
   "source": [
    "# Rmse"
   ]
  },
  {
   "cell_type": "code",
   "execution_count": 42,
   "id": "73099c1c",
   "metadata": {},
   "outputs": [],
   "source": [
    "def rmse(y,ypredicted):\n",
    "    se = (y-ypredicted)**2\n",
    "    mse = se.mean()\n",
    "    return np.sqrt(mse)"
   ]
  },
  {
   "cell_type": "code",
   "execution_count": 43,
   "id": "b18e9cf0",
   "metadata": {},
   "outputs": [
    {
     "data": {
      "text/plain": [
       "np.float64(0.52)"
      ]
     },
     "execution_count": 43,
     "metadata": {},
     "output_type": "execute_result"
    }
   ],
   "source": [
    "rmse0=round(rmse(y_val,y_pred),2)\n",
    "rmse0"
   ]
  },
  {
   "cell_type": "markdown",
   "id": "7b634f55",
   "metadata": {},
   "source": [
    "# Filling with mean "
   ]
  },
  {
   "cell_type": "code",
   "execution_count": 44,
   "id": "8a48d7b3",
   "metadata": {},
   "outputs": [],
   "source": [
    "def mean_drop(df):\n",
    "    mx = df.drop('fuel_efficiency_mpg',axis=1)\n",
    "    mxt = mx.fillna(df_train['horsepower'].mean()).values\n",
    "    return mxt , mx"
   ]
  },
  {
   "cell_type": "code",
   "execution_count": 45,
   "id": "f64b8f9c",
   "metadata": {},
   "outputs": [],
   "source": [
    "mean_xtrain,m_xtrain=mean_drop(df_train)\n",
    "mean_xval,m_xval=mean_drop(df_val)"
   ]
  },
  {
   "cell_type": "code",
   "execution_count": 46,
   "id": "5af9e27f",
   "metadata": {},
   "outputs": [],
   "source": [
    "w0,w = train_lin_regression(mean_xtrain,y_train)"
   ]
  },
  {
   "cell_type": "code",
   "execution_count": 67,
   "id": "5099dd1c",
   "metadata": {},
   "outputs": [
    {
     "name": "stdout",
     "output_type": "stream",
     "text": [
      "0.01841801730804525\n",
      "[ 0.00015161  0.00354204 -0.00500736  0.01465133]\n"
     ]
    }
   ],
   "source": [
    "print(w0)\n",
    "print(w)"
   ]
  },
  {
   "cell_type": "code",
   "execution_count": 47,
   "id": "224798db",
   "metadata": {},
   "outputs": [
    {
     "data": {
      "text/plain": [
       "array([16.64294342, 16.29837715, 18.59182197, ..., 17.59323665,\n",
       "       18.92574819, 17.96528447], shape=(5824,))"
      ]
     },
     "execution_count": 47,
     "metadata": {},
     "output_type": "execute_result"
    }
   ],
   "source": [
    "y_train"
   ]
  },
  {
   "cell_type": "code",
   "execution_count": 48,
   "id": "1a56b8b7",
   "metadata": {},
   "outputs": [
    {
     "data": {
      "text/plain": [
       "array([17.25910991, 16.19011261, 17.6924588 , ..., 17.51666431,\n",
       "       18.77812427, 17.84593445], shape=(5824,))"
      ]
     },
     "execution_count": 48,
     "metadata": {},
     "output_type": "execute_result"
    }
   ],
   "source": [
    "y_pred = w0 + mean_xtrain.dot(w)\n",
    "y_pred"
   ]
  },
  {
   "cell_type": "code",
   "execution_count": null,
   "id": "eea9d08b",
   "metadata": {},
   "outputs": [],
   "source": [
    "w0=0.01841801730804525\n",
    "w=[0.00015161,0.00354204,-0.00500736,0.01465133]\n",
    "w =np.array(w)\n",
    "y_pred = w0 + (np.array([listoffeatures])).dot(w)\n",
    "y_pred\n",
    "\n",
    "import streamlit as st\n",
    "import numpy as np\n",
    "\n",
    "# --------------------------\n",
    "# MODEL WEIGHTS (Embedded)\n",
    "# --------------------------\n",
    "w0 = 0.01841801730804525\n",
    "w = np.array([0.00015161, 0.00354204, -0.00500736, 0.01465133])\n",
    "\n",
    "# --------------------------\n",
    "# STREAMLIT UI\n",
    "# --------------------------\n",
    "st.title(\"🚗 Fuel Efficiency Prediction (MPG)\")\n",
    "\n",
    "st.write(\"Enter the vehicle details below to predict **Fuel Efficiency (Miles Per Gallon)**\")\n",
    "\n",
    "# Input fields (no min/max constraints)\n",
    "engine_displacement = st.number_input(\"Engine Displacement (float)\", format=\"%.4f\")\n",
    "horsepower = st.number_input(\"Horsepower (integer)\", format=\"%d\")\n",
    "vehicle_weight = st.number_input(\"Vehicle Weight (float)\", format=\"%.2f\")\n",
    "model_year = st.number_input(\"Model Year (integer)\", format=\"%d\")\n",
    "\n",
    "# Prediction\n",
    "if st.button(\"Predict\"):\n",
    "    features = np.array([engine_displacement, horsepower, vehicle_weight, model_year])\n",
    "    y_pred = w0 + features.dot(w)\n",
    "    st.success(f\"Estimated Fuel Efficiency: **{y_pred:.2f} MPG**\")\n"
   ]
  },
  {
   "cell_type": "code",
   "execution_count": 49,
   "id": "527aab88",
   "metadata": {},
   "outputs": [
    {
     "data": {
      "text/plain": [
       "array([15.36634109, 14.60118181, 12.24703219, ..., 13.61312692,\n",
       "       13.73334321, 15.81604972], shape=(1940,))"
      ]
     },
     "execution_count": 49,
     "metadata": {},
     "output_type": "execute_result"
    }
   ],
   "source": [
    "y_val"
   ]
  },
  {
   "cell_type": "code",
   "execution_count": 50,
   "id": "80452521",
   "metadata": {},
   "outputs": [
    {
     "data": {
      "text/plain": [
       "array([15.73837498, 14.80338305, 12.03624928, ..., 14.01482574,\n",
       "       13.72161355, 16.1936294 ], shape=(1940,))"
      ]
     },
     "execution_count": 50,
     "metadata": {},
     "output_type": "execute_result"
    }
   ],
   "source": [
    "y_predval = w0 + mean_xval.dot(w)\n",
    "y_predval"
   ]
  },
  {
   "cell_type": "code",
   "execution_count": 51,
   "id": "22a83c2a",
   "metadata": {},
   "outputs": [
    {
     "data": {
      "text/plain": [
       "np.float64(0.46)"
      ]
     },
     "execution_count": 51,
     "metadata": {},
     "output_type": "execute_result"
    }
   ],
   "source": [
    "round(rmse(y_val,y_predval),2)"
   ]
  },
  {
   "cell_type": "code",
   "execution_count": 52,
   "id": "36117629",
   "metadata": {},
   "outputs": [
    {
     "data": {
      "text/html": [
       "<div>\n",
       "<style scoped>\n",
       "    .dataframe tbody tr th:only-of-type {\n",
       "        vertical-align: middle;\n",
       "    }\n",
       "\n",
       "    .dataframe tbody tr th {\n",
       "        vertical-align: top;\n",
       "    }\n",
       "\n",
       "    .dataframe thead th {\n",
       "        text-align: right;\n",
       "    }\n",
       "</style>\n",
       "<table border=\"1\" class=\"dataframe\">\n",
       "  <thead>\n",
       "    <tr style=\"text-align: right;\">\n",
       "      <th></th>\n",
       "      <th>engine_displacement</th>\n",
       "      <th>horsepower</th>\n",
       "      <th>vehicle_weight</th>\n",
       "      <th>model_year</th>\n",
       "      <th>fuel_efficiency_mpg</th>\n",
       "    </tr>\n",
       "  </thead>\n",
       "  <tbody>\n",
       "    <tr>\n",
       "      <th>0</th>\n",
       "      <td>220</td>\n",
       "      <td>144.0</td>\n",
       "      <td>2535.887591</td>\n",
       "      <td>2009</td>\n",
       "      <td>16.642943</td>\n",
       "    </tr>\n",
       "    <tr>\n",
       "      <th>1</th>\n",
       "      <td>160</td>\n",
       "      <td>141.0</td>\n",
       "      <td>2741.170484</td>\n",
       "      <td>2019</td>\n",
       "      <td>16.298377</td>\n",
       "    </tr>\n",
       "    <tr>\n",
       "      <th>2</th>\n",
       "      <td>230</td>\n",
       "      <td>155.0</td>\n",
       "      <td>2471.880237</td>\n",
       "      <td>2017</td>\n",
       "      <td>18.591822</td>\n",
       "    </tr>\n",
       "    <tr>\n",
       "      <th>3</th>\n",
       "      <td>150</td>\n",
       "      <td>206.0</td>\n",
       "      <td>3748.164469</td>\n",
       "      <td>2015</td>\n",
       "      <td>11.818843</td>\n",
       "    </tr>\n",
       "    <tr>\n",
       "      <th>4</th>\n",
       "      <td>300</td>\n",
       "      <td>111.0</td>\n",
       "      <td>2135.716359</td>\n",
       "      <td>2006</td>\n",
       "      <td>19.402209</td>\n",
       "    </tr>\n",
       "    <tr>\n",
       "      <th>...</th>\n",
       "      <td>...</td>\n",
       "      <td>...</td>\n",
       "      <td>...</td>\n",
       "      <td>...</td>\n",
       "      <td>...</td>\n",
       "    </tr>\n",
       "    <tr>\n",
       "      <th>5819</th>\n",
       "      <td>260</td>\n",
       "      <td>139.0</td>\n",
       "      <td>2606.972984</td>\n",
       "      <td>2009</td>\n",
       "      <td>16.964054</td>\n",
       "    </tr>\n",
       "    <tr>\n",
       "      <th>5820</th>\n",
       "      <td>280</td>\n",
       "      <td>132.0</td>\n",
       "      <td>4004.214323</td>\n",
       "      <td>2014</td>\n",
       "      <td>10.059094</td>\n",
       "    </tr>\n",
       "    <tr>\n",
       "      <th>5821</th>\n",
       "      <td>210</td>\n",
       "      <td>152.0</td>\n",
       "      <td>2500.175687</td>\n",
       "      <td>2020</td>\n",
       "      <td>17.593237</td>\n",
       "    </tr>\n",
       "    <tr>\n",
       "      <th>5822</th>\n",
       "      <td>250</td>\n",
       "      <td>154.0</td>\n",
       "      <td>2254.313245</td>\n",
       "      <td>2002</td>\n",
       "      <td>18.925748</td>\n",
       "    </tr>\n",
       "    <tr>\n",
       "      <th>5823</th>\n",
       "      <td>210</td>\n",
       "      <td>152.0</td>\n",
       "      <td>2435.203606</td>\n",
       "      <td>2004</td>\n",
       "      <td>17.965284</td>\n",
       "    </tr>\n",
       "  </tbody>\n",
       "</table>\n",
       "<p>5824 rows × 5 columns</p>\n",
       "</div>"
      ],
      "text/plain": [
       "      engine_displacement  horsepower  vehicle_weight  model_year  \\\n",
       "0                     220       144.0     2535.887591        2009   \n",
       "1                     160       141.0     2741.170484        2019   \n",
       "2                     230       155.0     2471.880237        2017   \n",
       "3                     150       206.0     3748.164469        2015   \n",
       "4                     300       111.0     2135.716359        2006   \n",
       "...                   ...         ...             ...         ...   \n",
       "5819                  260       139.0     2606.972984        2009   \n",
       "5820                  280       132.0     4004.214323        2014   \n",
       "5821                  210       152.0     2500.175687        2020   \n",
       "5822                  250       154.0     2254.313245        2002   \n",
       "5823                  210       152.0     2435.203606        2004   \n",
       "\n",
       "      fuel_efficiency_mpg  \n",
       "0               16.642943  \n",
       "1               16.298377  \n",
       "2               18.591822  \n",
       "3               11.818843  \n",
       "4               19.402209  \n",
       "...                   ...  \n",
       "5819            16.964054  \n",
       "5820            10.059094  \n",
       "5821            17.593237  \n",
       "5822            18.925748  \n",
       "5823            17.965284  \n",
       "\n",
       "[5824 rows x 5 columns]"
      ]
     },
     "execution_count": 52,
     "metadata": {},
     "output_type": "execute_result"
    }
   ],
   "source": [
    "df_train"
   ]
  },
  {
   "cell_type": "markdown",
   "id": "a0f8685d",
   "metadata": {},
   "source": [
    "# Question 4"
   ]
  },
  {
   "cell_type": "markdown",
   "id": "43fbf380",
   "metadata": {},
   "source": [
    "# Regularising"
   ]
  },
  {
   "cell_type": "code",
   "execution_count": 53,
   "id": "01a9d3ef",
   "metadata": {},
   "outputs": [],
   "source": [
    "def train_lin_regression_reg(x,y,i):\n",
    "    ones =np.ones(x.shape[0])\n",
    "    x = np.column_stack([ones,x])\n",
    "    xtx = x.T.dot(x)\n",
    "    xtx = xtx + i * np.eye(xtx.shape[1])\n",
    "    xtx_inv= np.linalg.inv(xtx)\n",
    "    w_full = xtx_inv.dot(x.T).dot(y)\n",
    "    return w_full[0],w_full[1:]\n"
   ]
  },
  {
   "cell_type": "code",
   "execution_count": 54,
   "id": "1def07ca",
   "metadata": {},
   "outputs": [
    {
     "data": {
      "text/plain": [
       "array([15.36634109, 14.60118181, 12.24703219, ..., 13.61312692,\n",
       "       13.73334321, 15.81604972], shape=(1940,))"
      ]
     },
     "execution_count": 54,
     "metadata": {},
     "output_type": "execute_result"
    }
   ],
   "source": [
    "y_val"
   ]
  },
  {
   "cell_type": "code",
   "execution_count": 66,
   "id": "3ae68ed2",
   "metadata": {},
   "outputs": [
    {
     "name": "stdout",
     "output_type": "stream",
     "text": [
      "28.827365474598718\n",
      "[ 9.93613218e-05  3.54221891e-03 -5.01328015e-03  3.42992869e-04]\n",
      "rmse\t0 is 3.5804\n",
      "\n",
      "24.926838421084422\n",
      "[ 0.00010643  0.0035422  -0.00501248  0.00228024]\n",
      "rmse\t0.01 is 3.5801\n",
      "\n",
      "11.239661085047366\n",
      "[ 0.00013125  0.00354212 -0.00500966  0.00907815]\n",
      "rmse\t0.1 is 3.5795\n",
      "\n",
      "1.7315979412398264\n",
      "[ 0.00014849  0.00354207 -0.00500771  0.01380046]\n",
      "rmse\t1 is 3.5795\n",
      "\n",
      "0.36380750207153073\n",
      "[ 0.00015098  0.00354206 -0.00500743  0.01447979]\n",
      "rmse\t5 is 3.5795\n",
      "\n",
      "0.18306246622476907\n",
      "[ 0.0001513   0.00354206 -0.00500739  0.01456956]\n",
      "rmse\t10 is 3.5795\n",
      "\n",
      "0.01841801730804525\n",
      "[ 0.00015161  0.00354204 -0.00500736  0.01465133]\n",
      "rmse\t100 is 3.5795\n",
      "\n"
     ]
    }
   ],
   "source": [
    "r=[0,0.01,0.1,1,5,10,100]\n",
    "for i in r:\n",
    "    count=0\n",
    "    w0,w =train_lin_regression_reg(t_x,y_train,i)\n",
    "    print(w0)\n",
    "    print(w)\n",
    "    \n",
    "    y_pred = w0 + x_val.dot(w)\n",
    "    rotmean=round(rmse(y_val,y_pred),4)\n",
    "    print(f'rmse\\t{i} is {rotmean}\\n')\n",
    "    count+=1"
   ]
  },
  {
   "cell_type": "code",
   "execution_count": null,
   "id": "949c8ced",
   "metadata": {},
   "outputs": [],
   "source": [
    "28.827365474598718\n",
    "\n"
   ]
  },
  {
   "cell_type": "markdown",
   "id": "468598e9",
   "metadata": {},
   "source": [
    "# Question 5"
   ]
  },
  {
   "cell_type": "code",
   "execution_count": 56,
   "id": "c5629622",
   "metadata": {},
   "outputs": [],
   "source": [
    "# function that prepare x matric and y matrix\n",
    "def mean_drop(df):\n",
    "    mx = df.drop('fuel_efficiency_mpg',axis=1)\n",
    "    mxt = mx.fillna(df_train['horsepower'].mean()).values\n",
    "    return mxt , mx\n"
   ]
  },
  {
   "cell_type": "code",
   "execution_count": 57,
   "id": "5a27ca29",
   "metadata": {},
   "outputs": [
    {
     "data": {
      "text/html": [
       "<div>\n",
       "<style scoped>\n",
       "    .dataframe tbody tr th:only-of-type {\n",
       "        vertical-align: middle;\n",
       "    }\n",
       "\n",
       "    .dataframe tbody tr th {\n",
       "        vertical-align: top;\n",
       "    }\n",
       "\n",
       "    .dataframe thead th {\n",
       "        text-align: right;\n",
       "    }\n",
       "</style>\n",
       "<table border=\"1\" class=\"dataframe\">\n",
       "  <thead>\n",
       "    <tr style=\"text-align: right;\">\n",
       "      <th></th>\n",
       "      <th>engine_displacement</th>\n",
       "      <th>horsepower</th>\n",
       "      <th>vehicle_weight</th>\n",
       "      <th>model_year</th>\n",
       "      <th>fuel_efficiency_mpg</th>\n",
       "    </tr>\n",
       "  </thead>\n",
       "  <tbody>\n",
       "    <tr>\n",
       "      <th>0</th>\n",
       "      <td>170</td>\n",
       "      <td>159.0</td>\n",
       "      <td>3413.433759</td>\n",
       "      <td>2003</td>\n",
       "      <td>13.231729</td>\n",
       "    </tr>\n",
       "    <tr>\n",
       "      <th>1</th>\n",
       "      <td>130</td>\n",
       "      <td>97.0</td>\n",
       "      <td>3149.664934</td>\n",
       "      <td>2007</td>\n",
       "      <td>13.688217</td>\n",
       "    </tr>\n",
       "    <tr>\n",
       "      <th>2</th>\n",
       "      <td>170</td>\n",
       "      <td>78.0</td>\n",
       "      <td>3079.038997</td>\n",
       "      <td>2018</td>\n",
       "      <td>14.246341</td>\n",
       "    </tr>\n",
       "    <tr>\n",
       "      <th>3</th>\n",
       "      <td>220</td>\n",
       "      <td>NaN</td>\n",
       "      <td>2542.392402</td>\n",
       "      <td>2009</td>\n",
       "      <td>16.912736</td>\n",
       "    </tr>\n",
       "    <tr>\n",
       "      <th>4</th>\n",
       "      <td>210</td>\n",
       "      <td>140.0</td>\n",
       "      <td>3460.870990</td>\n",
       "      <td>2009</td>\n",
       "      <td>12.488369</td>\n",
       "    </tr>\n",
       "    <tr>\n",
       "      <th>...</th>\n",
       "      <td>...</td>\n",
       "      <td>...</td>\n",
       "      <td>...</td>\n",
       "      <td>...</td>\n",
       "      <td>...</td>\n",
       "    </tr>\n",
       "    <tr>\n",
       "      <th>9699</th>\n",
       "      <td>140</td>\n",
       "      <td>164.0</td>\n",
       "      <td>2981.107371</td>\n",
       "      <td>2013</td>\n",
       "      <td>15.101802</td>\n",
       "    </tr>\n",
       "    <tr>\n",
       "      <th>9700</th>\n",
       "      <td>180</td>\n",
       "      <td>154.0</td>\n",
       "      <td>2439.525729</td>\n",
       "      <td>2004</td>\n",
       "      <td>17.962326</td>\n",
       "    </tr>\n",
       "    <tr>\n",
       "      <th>9701</th>\n",
       "      <td>220</td>\n",
       "      <td>138.0</td>\n",
       "      <td>2583.471318</td>\n",
       "      <td>2008</td>\n",
       "      <td>17.186587</td>\n",
       "    </tr>\n",
       "    <tr>\n",
       "      <th>9702</th>\n",
       "      <td>230</td>\n",
       "      <td>177.0</td>\n",
       "      <td>2905.527390</td>\n",
       "      <td>2011</td>\n",
       "      <td>15.331551</td>\n",
       "    </tr>\n",
       "    <tr>\n",
       "      <th>9703</th>\n",
       "      <td>270</td>\n",
       "      <td>140.0</td>\n",
       "      <td>2908.043477</td>\n",
       "      <td>2005</td>\n",
       "      <td>14.884467</td>\n",
       "    </tr>\n",
       "  </tbody>\n",
       "</table>\n",
       "<p>9704 rows × 5 columns</p>\n",
       "</div>"
      ],
      "text/plain": [
       "      engine_displacement  horsepower  vehicle_weight  model_year  \\\n",
       "0                     170       159.0     3413.433759        2003   \n",
       "1                     130        97.0     3149.664934        2007   \n",
       "2                     170        78.0     3079.038997        2018   \n",
       "3                     220         NaN     2542.392402        2009   \n",
       "4                     210       140.0     3460.870990        2009   \n",
       "...                   ...         ...             ...         ...   \n",
       "9699                  140       164.0     2981.107371        2013   \n",
       "9700                  180       154.0     2439.525729        2004   \n",
       "9701                  220       138.0     2583.471318        2008   \n",
       "9702                  230       177.0     2905.527390        2011   \n",
       "9703                  270       140.0     2908.043477        2005   \n",
       "\n",
       "      fuel_efficiency_mpg  \n",
       "0               13.231729  \n",
       "1               13.688217  \n",
       "2               14.246341  \n",
       "3               16.912736  \n",
       "4               12.488369  \n",
       "...                   ...  \n",
       "9699            15.101802  \n",
       "9700            17.962326  \n",
       "9701            17.186587  \n",
       "9702            15.331551  \n",
       "9703            14.884467  \n",
       "\n",
       "[9704 rows x 5 columns]"
      ]
     },
     "execution_count": 57,
     "metadata": {},
     "output_type": "execute_result"
    }
   ],
   "source": [
    "data2"
   ]
  },
  {
   "cell_type": "code",
   "execution_count": 58,
   "id": "8c8e12f9",
   "metadata": {},
   "outputs": [
    {
     "name": "stdout",
     "output_type": "stream",
     "text": [
      "The rmse is 3.603312621323288\n",
      "The rmse is 3.657915830364171\n",
      "The rmse is 3.5957899828893285\n",
      "The rmse is 3.7140819673960745\n",
      "The rmse is 3.6010272237568883\n",
      "The rmse is 3.6216982082365874\n",
      "The rmse is 3.525709510228474\n",
      "The rmse is 3.5962629512163433\n",
      "The rmse is 3.5998758306075938\n",
      "The rmse is 3.582493524185547\n"
     ]
    }
   ],
   "source": [
    "rscores = []\n",
    "seedvalues= [0,1,2,3,4,5,6,7,8,9]\n",
    "n = len(data2)\n",
    "for seed in seedvalues:\n",
    "    np.random.seed(seed)\n",
    "\n",
    "    n_val = int(n*0.2)\n",
    "    n_test =int(n*0.2)\n",
    "    n_train= n- n_test-n_val\n",
    "\n",
    "    idx =np.arange(n)\n",
    "    np.random.shuffle(idx)\n",
    "    data2 = data2.fillna(0)\n",
    "    q5_train = data2.iloc[idx[:n_train]]\n",
    "    q5_val =data2.iloc[idx[n_train: n_train+n_val]]\n",
    "    q5_test = data2.iloc[idx[n_train+n_val:]]\n",
    "\n",
    "    df_trains=q5_train.reset_index(drop=True).values\n",
    "    df_vals = q5_val.reset_index(drop=True).values\n",
    "    df_tests = q5_test.reset_index(drop=True).values\n",
    "\n",
    "\n",
    "    y_trains = q5_train['fuel_efficiency_mpg'].values\n",
    "    y_vals  = q5_val['fuel_efficiency_mpg'].values\n",
    "\n",
    "    x_train =q5_train.drop('fuel_efficiency_mpg',axis=1).values\n",
    "    x_val =q5_val.drop('fuel_efficiency_mpg',axis=1).values\n",
    "    x_test =q5_test.drop('fuel_efficiency_mpg',axis=1).values\n",
    "    w0,w =train_lin_regression(x_train,y_trains)\n",
    "    y_pred = w0 + x_val.dot(w)\n",
    "    rscore=rmse(y_val,y_pred)\n",
    "    rscores.append(rscore)\n",
    "    print(f'The rmse is {rscore}')"
   ]
  },
  {
   "cell_type": "code",
   "execution_count": 59,
   "id": "7aabf7c6",
   "metadata": {},
   "outputs": [
    {
     "data": {
      "text/plain": [
       "np.float64(0.047)"
      ]
     },
     "execution_count": 59,
     "metadata": {},
     "output_type": "execute_result"
    }
   ],
   "source": [
    "rscores=np.array(rscores)\n",
    "rscoresstd = round(np.std(rscores),3)\n",
    "rscoresstd"
   ]
  },
  {
   "cell_type": "code",
   "execution_count": 60,
   "id": "2ecc1f22",
   "metadata": {},
   "outputs": [
    {
     "name": "stdout",
     "output_type": "stream",
     "text": [
      "The rmse is 0.5156261299185628\n"
     ]
    }
   ],
   "source": [
    "\n",
    "\n",
    "n = len(data2)\n",
    "\n",
    "np.random.seed(9)\n",
    "\n",
    "n_val = int(n*0.2)\n",
    "n_test =int(n*0.2)\n",
    "n_train= n- n_test-n_val\n",
    "\n",
    "idx =np.arange(n)\n",
    "np.random.shuffle(idx)\n",
    "data2 = data2.fillna(0)\n",
    "q5_train = data2.iloc[idx[:n_train]]\n",
    "q5_val =data2.iloc[idx[n_train: n_train+n_val]]\n",
    "q5_test = data2.iloc[idx[n_train+n_val:]]\n",
    "\n",
    "df_trains=q5_train.reset_index(drop=True).values\n",
    "df_vals = q5_val.reset_index(drop=True).values\n",
    "df_tests = q5_test.reset_index(drop=True).values\n",
    "\n",
    "\n",
    "y_trains = q5_train['fuel_efficiency_mpg'].values\n",
    "y_vals  = q5_val['fuel_efficiency_mpg'].values\n",
    "y_test  = q5_test['fuel_efficiency_mpg'].values\n",
    "\n",
    "x_train =q5_train.drop('fuel_efficiency_mpg',axis=1)\n",
    "x_val =q5_val.drop('fuel_efficiency_mpg',axis=1)\n",
    "x_comb= np.vstack([x_train,x_val])\n",
    "y_comb= np.hstack([y_trains,y_vals])\n",
    "\n",
    "x_test =q5_test.drop('fuel_efficiency_mpg',axis=1).values\n",
    "w0,w =train_lin_regression_reg(x_comb,y_comb,0.001)\n",
    "y_pred = w0 + x_test.dot(w)\n",
    "rscore=rmse(y_test,y_pred)\n",
    "print(f'The rmse is {rscore}')"
   ]
  }
 ],
 "metadata": {
  "kernelspec": {
   "display_name": "zoomcampvenv",
   "language": "python",
   "name": "python3"
  },
  "language_info": {
   "codemirror_mode": {
    "name": "ipython",
    "version": 3
   },
   "file_extension": ".py",
   "mimetype": "text/x-python",
   "name": "python",
   "nbconvert_exporter": "python",
   "pygments_lexer": "ipython3",
   "version": "3.12.4"
  }
 },
 "nbformat": 4,
 "nbformat_minor": 5
}
